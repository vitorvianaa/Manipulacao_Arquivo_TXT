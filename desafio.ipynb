{
 "cells": [
  {
   "cell_type": "markdown",
   "metadata": {},
   "source": [
    "### Desafio de manipulação com arquivos TXT. Contexto:\n",
    "Para analisar um um funil de vendas, todos os leads que preencheram um formulario foram marcados com alguns parametros especificos:\n",
    "- hashtag_site_org : Vieram pelo site\n",
    "- hashtag_yt_org: Vieram pelo Youtube\n",
    "- hashtag_ig_org: Vieram pelo Instagram\n",
    "- hashtag_igfb_org: Vieram pelo Instagram ou Facebook\n",
    "\n",
    "(org = leads que vieram organicamente. Todos diferentes disso vieram de anúncios)\n",
    "\n",
    "### Perguntas:\n",
    "- Quantos alunos vieram por anúncios e quantos de forma orgânica?\n",
    "- Qual a melhor fonte de leads orgânicos?\n",
    "\n",
    "Ao final, escreva todos em um novo arquivo txt."
   ]
  },
  {
   "cell_type": "code",
   "execution_count": 45,
   "metadata": {},
   "outputs": [],
   "source": [
    "arquivo = open('Alunos.txt', 'r')\n",
    "lista_alunos = arquivo.readlines() # Fazendo uma lista com cada aluno do arquivo\n"
   ]
  },
  {
   "cell_type": "code",
   "execution_count": 46,
   "metadata": {},
   "outputs": [],
   "source": [
    "# Removendo dados inuteis\n",
    "del(lista_alunos[:4])\n"
   ]
  },
  {
   "cell_type": "code",
   "execution_count": 47,
   "metadata": {},
   "outputs": [],
   "source": [
    "# Variaveis correspondentes a cada aluno\n",
    "alunos_insta= 0\n",
    "alunos_youtube = 0\n",
    "alunos_site = 0\n",
    "alunos_pago = 0"
   ]
  },
  {
   "cell_type": "code",
   "execution_count": 48,
   "metadata": {},
   "outputs": [],
   "source": [
    "# Percorrendo a minha lista de alunos e somando 1 em cada variavel que corresponde a origem daquele aluno\n",
    "for aluno in lista_alunos:\n",
    "    if 'hashtag_yt_org' in aluno:\n",
    "        alunos_youtube += 1\n",
    "    if 'hashtag_site_org' in aluno:\n",
    "        alunos_site += 1\n",
    "    if ('hashtag_ig_org' or 'hashtag_igfb_org') in aluno:\n",
    "        alunos_insta += 1\n",
    "    if '_org' not in aluno:\n",
    "        alunos_pago += 1"
   ]
  },
  {
   "cell_type": "code",
   "execution_count": 49,
   "metadata": {},
   "outputs": [
    {
     "name": "stdout",
     "output_type": "stream",
     "text": [
      "Alunos que vieram do instagram : 22\n",
      "Alunos que vieram do yotuube : 155\n",
      "Alunos que vieram do Site : 73\n",
      "Alunos que vieram de anúncios : 274\n"
     ]
    }
   ],
   "source": [
    "print(f'Alunos que vieram do instagram : {alunos_insta}')\n",
    "print(f'Alunos que vieram do yotuube : {alunos_youtube}')\n",
    "print(f'Alunos que vieram do Site : {alunos_site}')\n",
    "print(f'Alunos que vieram de anúncios : {alunos_pago}')\n"
   ]
  },
  {
   "cell_type": "markdown",
   "metadata": {},
   "source": [
    "### Quantos vieram por anuncios e quantos vieram de forma orgânica?"
   ]
  },
  {
   "cell_type": "code",
   "execution_count": 50,
   "metadata": {},
   "outputs": [
    {
     "name": "stdout",
     "output_type": "stream",
     "text": [
      "Dos 500 alunos em nossa base de dados:\n",
      "274 alunos vieram através de anúncios pagos\n",
      "250 alunos vieram de forma orgânica\n"
     ]
    }
   ],
   "source": [
    "print('Dos 500 alunos em nossa base de dados:')\n",
    "print(f'{alunos_pago} alunos vieram através de anúncios pagos')\n",
    "print(f'{alunos_insta + alunos_site + alunos_youtube} alunos vieram de forma orgânica')"
   ]
  },
  {
   "cell_type": "markdown",
   "metadata": {},
   "source": [
    "### Qual a melhor fonte de leads orgânicos?"
   ]
  },
  {
   "cell_type": "code",
   "execution_count": 51,
   "metadata": {},
   "outputs": [
    {
     "name": "stdout",
     "output_type": "stream",
     "text": [
      "O ranking de melhores fontes de leads orgânicos é:\n",
      "1 - YouTube com 155 leads.\n",
      "2 - Site com 73 leads.\n",
      "3 - Instagram + Facebook com 22 leads.\n"
     ]
    }
   ],
   "source": [
    "print('O ranking de melhores fontes de leads orgânicos é:')\n",
    "print(f'1 - YouTube com {alunos_youtube} leads.')\n",
    "print(f'2 - Site com {alunos_site} leads.')\n",
    "print(f'3 - Instagram + Facebook com {alunos_insta} leads.')"
   ]
  },
  {
   "cell_type": "code",
   "execution_count": 52,
   "metadata": {},
   "outputs": [],
   "source": [
    "# Escrevendos todos em um novo arquivo\n",
    "with open('Alunos_novo.txt', 'w') as alunos_novo:\n",
    "    alunos_novo.write(f'{alunos_insta} - Alunos que vieram do Instagram + Facebook\\n')\n",
    "    alunos_novo.write(f'{alunos_site} - Alunos que vieram do Site\\n')\n",
    "    alunos_novo.write(f'{alunos_youtube} - Alunos que vieram do Youtube\\n')\n",
    "    alunos_novo.write(f'{alunos_pago} - Alunos que vieram de anúncios\\n')"
   ]
  }
 ],
 "metadata": {
  "kernelspec": {
   "display_name": "Python 3",
   "language": "python",
   "name": "python3"
  },
  "language_info": {
   "codemirror_mode": {
    "name": "ipython",
    "version": 3
   },
   "file_extension": ".py",
   "mimetype": "text/x-python",
   "name": "python",
   "nbconvert_exporter": "python",
   "pygments_lexer": "ipython3",
   "version": "3.12.2"
  }
 },
 "nbformat": 4,
 "nbformat_minor": 2
}
